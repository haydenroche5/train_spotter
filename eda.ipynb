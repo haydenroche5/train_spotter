{
 "cells": [
  {
   "cell_type": "code",
   "execution_count": 4,
   "metadata": {},
   "outputs": [],
   "source": [
    "import pandas as pd\n",
    "from pathlib import Path\n",
    "import pickle\n",
    "from datetime import datetime, timedelta\n",
    "import numpy as np"
   ]
  },
  {
   "cell_type": "code",
   "execution_count": 7,
   "metadata": {},
   "outputs": [],
   "source": [
    "fourth_events_dirs = [Path('/home/hayden/park_center_data/4th/events')]\n",
    "chestnut_events_dirs = [Path('/home/hayden/park_center_data/chestnut/usb/events'), Path('/home/hayden/park_center_data/chestnut/usb2/events')]"
   ]
  },
  {
   "cell_type": "code",
   "execution_count": 9,
   "metadata": {},
   "outputs": [],
   "source": [
    "def get_moments(events_dirs):\n",
    "    moments = []\n",
    "    for events_dir in events_dirs:\n",
    "        for events_subdir in events_dir.iterdir():\n",
    "            moments_file = Path(events_subdir, 'moments.pickle')\n",
    "\n",
    "            if moments_file.exists():\n",
    "                with open(moments_file, 'rb') as f:\n",
    "                    event_moments = pickle.load(f)\n",
    "                for m in event_moments:\n",
    "                    moments.append(m)\n",
    "            else:\n",
    "                print(f'No moments.pickle for {events_subdir}.')\n",
    "    return moments"
   ]
  },
  {
   "cell_type": "code",
   "execution_count": 10,
   "metadata": {},
   "outputs": [
    {
     "name": "stdout",
     "output_type": "stream",
     "text": [
      "No moments.pickle for /home/hayden/park_center_data/4th/events/1107.\n",
      "No moments.pickle for /home/hayden/park_center_data/4th/events/92.\n",
      "No moments.pickle for /home/hayden/park_center_data/4th/events/165.\n",
      "No moments.pickle for /home/hayden/park_center_data/4th/events/93.\n"
     ]
    }
   ],
   "source": [
    "fourth_moments = get_moments(fourth_events_dirs)"
   ]
  },
  {
   "cell_type": "code",
   "execution_count": 11,
   "metadata": {},
   "outputs": [
    {
     "name": "stdout",
     "output_type": "stream",
     "text": [
      "No moments.pickle for /home/hayden/park_center_data/chestnut/usb/events/1326.\n",
      "No moments.pickle for /home/hayden/park_center_data/chestnut/usb/events/._.DS_Store.\n",
      "No moments.pickle for /home/hayden/park_center_data/chestnut/usb/events/.DS_Store.\n",
      "No moments.pickle for /home/hayden/park_center_data/chestnut/usb/events/0.\n",
      "No moments.pickle for /home/hayden/park_center_data/chestnut/usb/events/1299.\n",
      "No moments.pickle for /home/hayden/park_center_data/chestnut/usb2/events/1326.\n",
      "No moments.pickle for /home/hayden/park_center_data/chestnut/usb2/events/0.\n",
      "No moments.pickle for /home/hayden/park_center_data/chestnut/usb2/events/1299.\n"
     ]
    }
   ],
   "source": [
    "chestnut_moments = get_moments(chestnut_events_dirs)"
   ]
  },
  {
   "cell_type": "code",
   "execution_count": 12,
   "metadata": {},
   "outputs": [
    {
     "name": "stdout",
     "output_type": "stream",
     "text": [
      "{'train_prediction_value': 0.12845877, 'img_path': '/mnt/usb/events/1373/images/0.jpg', 'signal_prediction_value': 0.01666848547756672, 'event_number': 1373, 'timestamp': '20200209_075059'}\n",
      "{'event_number': 1373, 'timestamp': '20200214_225439', 'train_prediction_value': 0.97462726, 'img_path': '/mnt/usb/events/1373/images/0.jpg', 'signal_prediction_value': 6.9686002e-06}\n"
     ]
    }
   ],
   "source": [
    "print(fourth_moments[0])\n",
    "print(chestnut_moments[0])"
   ]
  },
  {
   "cell_type": "code",
   "execution_count": 14,
   "metadata": {},
   "outputs": [],
   "source": [
    "def get_events(moments):\n",
    "    events = {}\n",
    "    for m in moments:\n",
    "        event_number = m['event_number']\n",
    "        timestamp = datetime.strptime(m['timestamp'], '%Y%m%d_%H%M%S')\n",
    "\n",
    "        if event_number in events:\n",
    "            if timestamp < events[event_number]['start_time']:\n",
    "                events[event_number]['start_time'] = timestamp\n",
    "            elif timestamp > events[event_number]['end_time']:\n",
    "                events[event_number]['end_time'] = timestamp\n",
    "        else:\n",
    "            events[event_number] = {'start_time': datetime.max, 'end_time': datetime.min}\n",
    "    \n",
    "    return events"
   ]
  },
  {
   "cell_type": "code",
   "execution_count": 15,
   "metadata": {},
   "outputs": [],
   "source": [
    "fourth_events = get_events(fourth_moments)"
   ]
  },
  {
   "cell_type": "code",
   "execution_count": 16,
   "metadata": {},
   "outputs": [],
   "source": [
    "chestnut_events = get_events(chestnut_moments)"
   ]
  },
  {
   "cell_type": "code",
   "execution_count": 17,
   "metadata": {},
   "outputs": [
    {
     "data": {
      "text/html": [
       "<div>\n",
       "<style scoped>\n",
       "    .dataframe tbody tr th:only-of-type {\n",
       "        vertical-align: middle;\n",
       "    }\n",
       "\n",
       "    .dataframe tbody tr th {\n",
       "        vertical-align: top;\n",
       "    }\n",
       "\n",
       "    .dataframe thead th {\n",
       "        text-align: right;\n",
       "    }\n",
       "</style>\n",
       "<table border=\"1\" class=\"dataframe\">\n",
       "  <thead>\n",
       "    <tr style=\"text-align: right;\">\n",
       "      <th></th>\n",
       "      <th>start_time</th>\n",
       "      <th>end_time</th>\n",
       "    </tr>\n",
       "  </thead>\n",
       "  <tbody>\n",
       "    <tr>\n",
       "      <th>1373</th>\n",
       "      <td>2020-02-09 07:51:03</td>\n",
       "      <td>2020-02-09 08:20:57</td>\n",
       "    </tr>\n",
       "    <tr>\n",
       "      <th>1624</th>\n",
       "      <td>2020-02-18 14:30:13</td>\n",
       "      <td>2020-02-18 14:30:42</td>\n",
       "    </tr>\n",
       "    <tr>\n",
       "      <th>316</th>\n",
       "      <td>2019-12-14 02:24:09</td>\n",
       "      <td>2019-12-14 02:25:20</td>\n",
       "    </tr>\n",
       "    <tr>\n",
       "      <th>638</th>\n",
       "      <td>2019-12-19 04:36:42</td>\n",
       "      <td>2019-12-19 04:40:52</td>\n",
       "    </tr>\n",
       "    <tr>\n",
       "      <th>4270</th>\n",
       "      <td>2020-09-26 15:22:01</td>\n",
       "      <td>2020-09-26 15:35:49</td>\n",
       "    </tr>\n",
       "  </tbody>\n",
       "</table>\n",
       "</div>"
      ],
      "text/plain": [
       "              start_time            end_time\n",
       "1373 2020-02-09 07:51:03 2020-02-09 08:20:57\n",
       "1624 2020-02-18 14:30:13 2020-02-18 14:30:42\n",
       "316  2019-12-14 02:24:09 2019-12-14 02:25:20\n",
       "638  2019-12-19 04:36:42 2019-12-19 04:40:52\n",
       "4270 2020-09-26 15:22:01 2020-09-26 15:35:49"
      ]
     },
     "execution_count": 17,
     "metadata": {},
     "output_type": "execute_result"
    }
   ],
   "source": [
    "fourth_events_df = pd.DataFrame.from_dict(fourth_events, orient='index')\n",
    "fourth_events_df.head()"
   ]
  },
  {
   "cell_type": "code",
   "execution_count": 18,
   "metadata": {},
   "outputs": [
    {
     "data": {
      "text/html": [
       "<div>\n",
       "<style scoped>\n",
       "    .dataframe tbody tr th:only-of-type {\n",
       "        vertical-align: middle;\n",
       "    }\n",
       "\n",
       "    .dataframe tbody tr th {\n",
       "        vertical-align: top;\n",
       "    }\n",
       "\n",
       "    .dataframe thead th {\n",
       "        text-align: right;\n",
       "    }\n",
       "</style>\n",
       "<table border=\"1\" class=\"dataframe\">\n",
       "  <thead>\n",
       "    <tr style=\"text-align: right;\">\n",
       "      <th></th>\n",
       "      <th>start_time</th>\n",
       "      <th>end_time</th>\n",
       "    </tr>\n",
       "  </thead>\n",
       "  <tbody>\n",
       "    <tr>\n",
       "      <th>1373</th>\n",
       "      <td>2020-02-14 22:54:39</td>\n",
       "      <td>2020-02-14 22:54:56</td>\n",
       "    </tr>\n",
       "    <tr>\n",
       "      <th>1624</th>\n",
       "      <td>2020-02-26 02:49:18</td>\n",
       "      <td>2020-02-26 02:49:37</td>\n",
       "    </tr>\n",
       "    <tr>\n",
       "      <th>316</th>\n",
       "      <td>2020-02-01 17:24:52</td>\n",
       "      <td>2020-02-01 17:29:32</td>\n",
       "    </tr>\n",
       "    <tr>\n",
       "      <th>638</th>\n",
       "      <td>2020-02-04 05:17:57</td>\n",
       "      <td>2020-02-04 05:18:17</td>\n",
       "    </tr>\n",
       "    <tr>\n",
       "      <th>418</th>\n",
       "      <td>2020-02-02 20:45:03</td>\n",
       "      <td>2020-02-02 20:45:20</td>\n",
       "    </tr>\n",
       "  </tbody>\n",
       "</table>\n",
       "</div>"
      ],
      "text/plain": [
       "              start_time            end_time\n",
       "1373 2020-02-14 22:54:39 2020-02-14 22:54:56\n",
       "1624 2020-02-26 02:49:18 2020-02-26 02:49:37\n",
       "316  2020-02-01 17:24:52 2020-02-01 17:29:32\n",
       "638  2020-02-04 05:17:57 2020-02-04 05:18:17\n",
       "418  2020-02-02 20:45:03 2020-02-02 20:45:20"
      ]
     },
     "execution_count": 18,
     "metadata": {},
     "output_type": "execute_result"
    }
   ],
   "source": [
    "chestnut_events_df = pd.DataFrame.from_dict(chestnut_events, orient='index')\n",
    "chestnut_events_df.head()"
   ]
  },
  {
   "cell_type": "code",
   "execution_count": 20,
   "metadata": {},
   "outputs": [],
   "source": [
    "# Add duration col\n",
    "fourth_events_df['duration'] = fourth_events_df['end_time'] - fourth_events_df['start_time']\n",
    "chestnut_events_df['duration'] = chestnut_events_df['end_time'] - chestnut_events_df['start_time']\n",
    "# Filter events =< 1 min in duration\n",
    "fourth_events_df = fourth_events_df.loc[fourth_events_df['duration'] > timedelta(minutes=1)]\n",
    "chestnut_events_df = chestnut_events_df.loc[chestnut_events_df['duration'] > timedelta(minutes=1)]\n",
    "# Add date col\n",
    "fourth_events_df['date'] = fourth_events_df.apply(lambda e: e['start_time'].date(), axis=1)\n",
    "chestnut_events_df['date'] = chestnut_events_df.apply(lambda e: e['start_time'].date(), axis=1)\n",
    "# Add month col\n",
    "fourth_events_df['month'] = fourth_events_df.apply(lambda e: e['start_time'].month, axis=1)\n",
    "chestnut_events_df['month'] = chestnut_events_df.apply(lambda e: e['start_time'].month, axis=1)\n",
    "# Add day col\n",
    "fourth_events_df['day'] = fourth_events_df.apply(lambda e: e['start_time'].day, axis=1)\n",
    "chestnut_events_df['day'] = chestnut_events_df.apply(lambda e: e['start_time'].day, axis=1)\n",
    "# Add hour col\n",
    "fourth_events_df['hour'] = fourth_events_df.apply(lambda e: e['start_time'].hour, axis=1)\n",
    "chestnut_events_df['hour'] = chestnut_events_df.apply(lambda e: e['start_time'].hour, axis=1)"
   ]
  },
  {
   "cell_type": "code",
   "execution_count": 21,
   "metadata": {},
   "outputs": [
    {
     "name": "stdout",
     "output_type": "stream",
     "text": [
      "# Fourth events: 3405\n",
      "# Chestnut events: 2701\n"
     ]
    }
   ],
   "source": [
    "print(\"# Fourth events: {}\".format(len(fourth_events_df)))\n",
    "print(\"# Chestnut events: {}\".format(len(chestnut_events_df)))"
   ]
  },
  {
   "cell_type": "code",
   "execution_count": null,
   "metadata": {},
   "outputs": [],
   "source": [
    "def find_overlapping_events(events_a, events_b):\n",
    "    overlapping_events = []\n",
    "    total_events = len(events_a)\n",
    "    count = 0\n",
    "    for idx_a, event_a in events_a.iterrows():\n",
    "        overlappers = [event_a]\n",
    "        for idx_b, event_b in events_b.iterrows():\n",
    "            if event_a[\"start_time\"] < event_b[\"end_time\"] and event_a[\"start_time\"] > event_b[\"start_time\"] \\\n",
    "            or event_a[\"end_time\"] < event_b[\"end_time\"] and event_a[\"end_time\"] > event_b[\"start_time\"]:\n",
    "                overlappers.append(event_b)\n",
    "        \n",
    "        if len(overlappers) > 1:\n",
    "            overlapping_events.append(overlappers)\n",
    "        \n",
    "        if count % 50 == 0:\n",
    "            print(\"{}/{}\".format(count, total_events), flush=True)\n",
    "        count += 1\n",
    "    return overlapping_events"
   ]
  },
  {
   "cell_type": "code",
   "execution_count": null,
   "metadata": {},
   "outputs": [],
   "source": [
    "overlapping_events = find_overlapping_events(fourth_events_df, chestnut_events_df)"
   ]
  },
  {
   "cell_type": "code",
   "execution_count": null,
   "metadata": {},
   "outputs": [],
   "source": [
    "print(\"# overlappers: {}\".format(len(overlapping_events)))"
   ]
  },
  {
   "cell_type": "code",
   "execution_count": 15,
   "metadata": {},
   "outputs": [
    {
     "name": "stdout",
     "output_type": "stream",
     "text": [
      "MEAN:\n",
      " month\n",
      "1    00:07:30.470108\n",
      "2    00:09:09.761229\n",
      "3    00:09:49.353200\n",
      "4    00:07:26.360784\n",
      "5    00:07:42.934272\n",
      "6    00:11:12.858064\n",
      "7    00:13:43.321428\n",
      "8    00:13:24.596226\n",
      "9    00:09:38.195876\n",
      "10   00:12:44.487272\n",
      "11   00:15:17.934426\n",
      "12   00:10:38.570743\n",
      "Name: duration_int, dtype: timedelta64[ns] \n",
      "\n",
      "STD:\n",
      " month\n",
      "1    00:10:36.727322\n",
      "2    00:14:01.180093\n",
      "3    00:13:30.009807\n",
      "4    00:10:55.571713\n",
      "5    00:10:16.572108\n",
      "6    00:21:09.552352\n",
      "7    00:21:10.238538\n",
      "8    00:27:46.577607\n",
      "9    00:12:00.055936\n",
      "10   00:21:51.258200\n",
      "11   00:23:56.410348\n",
      "12   00:36:18.994865\n",
      "Name: duration_int, dtype: timedelta64[ns] \n",
      "\n",
      "MAX:\n",
      " month\n",
      "1    01:58:05\n",
      "2    03:18:18\n",
      "3    01:58:46\n",
      "4    01:53:14\n",
      "5    01:03:39\n",
      "6    02:46:45\n",
      "7    03:10:47\n",
      "8    05:04:59\n",
      "9    01:26:19\n",
      "10   03:20:35\n",
      "11   02:26:26\n",
      "12   11:22:44\n",
      "Name: duration_int, dtype: timedelta64[ns] \n",
      "\n",
      "MIN:\n",
      " month\n",
      "1    00:01:06\n",
      "2    00:01:02\n",
      "3    00:01:03\n",
      "4    00:01:03\n",
      "5    00:01:02\n",
      "6    00:01:01\n",
      "7    00:01:02\n",
      "8    00:01:09\n",
      "9    00:01:05\n",
      "10   00:01:02\n",
      "11   00:01:01\n",
      "12   00:01:01\n",
      "Name: duration_int, dtype: timedelta64[ns] \n",
      "\n"
     ]
    }
   ],
   "source": [
    "# Average and standard deviation of event duration in each month\n",
    "events_df['duration_int'] = events_df['duration'].values.astype(np.int64)\n",
    "duration_means = events_df.groupby('month')['duration_int'].mean()\n",
    "duration_stds = events_df.groupby('month')['duration_int'].std()\n",
    "duration_means = pd.to_timedelta(duration_means)\n",
    "duration_stds = pd.to_timedelta(duration_stds)\n",
    "duration_maxes = events_df.groupby('month')['duration_int'].max()\n",
    "duration_mins = events_df.groupby('month')['duration_int'].min()\n",
    "duration_maxes = pd.to_timedelta(duration_maxes)\n",
    "duration_mins = pd.to_timedelta(duration_mins)\n",
    "# march_events_df = events_df[events_df['month'] == 3]\n",
    "print('MEAN:\\n', duration_means, '\\n')\n",
    "print('STD:\\n', duration_stds, '\\n')\n",
    "print('MAX:\\n', duration_maxes, '\\n')\n",
    "print('MIN:\\n', duration_mins, '\\n')"
   ]
  },
  {
   "cell_type": "code",
   "execution_count": 16,
   "metadata": {},
   "outputs": [],
   "source": [
    "event_stats_df = pd.DataFrame({'mean': duration_means, 'std': duration_stds, 'max': duration_maxes, 'min': duration_mins})\n",
    "event_stats_df.to_html('temp.html')"
   ]
  },
  {
   "cell_type": "code",
   "execution_count": 17,
   "metadata": {},
   "outputs": [
    {
     "data": {
      "image/png": "[encoded data removed]",
      "text/plain": [
       "<Figure size 432x288 with 1 Axes>"
      ]
     },
     "metadata": {
      "needs_background": "light"
     },
     "output_type": "display_data"
    }
   ],
   "source": [
    "ax = events_df['month'].value_counts().sort_index().plot(kind='bar')\n",
    "ax.figure.savefig('events_vs_month.jpg')"
   ]
  },
  {
   "cell_type": "code",
   "execution_count": 18,
   "metadata": {},
   "outputs": [
    {
     "data": {
      "image/png": "[encoded data removed]",
      "text/plain": [
       "<Figure size 432x288 with 1 Axes>"
      ]
     },
     "metadata": {
      "needs_background": "light"
     },
     "output_type": "display_data"
    }
   ],
   "source": [
    "ax = events_df['hour'].value_counts().sort_index().plot(kind='bar')\n",
    "ax.figure.savefig('events_vs_hour.jpg')"
   ]
  },
  {
   "cell_type": "code",
   "execution_count": 19,
   "metadata": {},
   "outputs": [
    {
     "data": {
      "text/html": [
       "<div>\n",
       "<style scoped>\n",
       "    .dataframe tbody tr th:only-of-type {\n",
       "        vertical-align: middle;\n",
       "    }\n",
       "\n",
       "    .dataframe tbody tr th {\n",
       "        vertical-align: top;\n",
       "    }\n",
       "\n",
       "    .dataframe thead th {\n",
       "        text-align: right;\n",
       "    }\n",
       "</style>\n",
       "<table border=\"1\" class=\"dataframe\">\n",
       "  <thead>\n",
       "    <tr style=\"text-align: right;\">\n",
       "      <th></th>\n",
       "      <th>start_time</th>\n",
       "      <th>end_time</th>\n",
       "      <th>duration</th>\n",
       "      <th>date</th>\n",
       "      <th>month</th>\n",
       "      <th>day</th>\n",
       "      <th>hour</th>\n",
       "      <th>duration_int</th>\n",
       "    </tr>\n",
       "  </thead>\n",
       "  <tbody>\n",
       "    <tr>\n",
       "      <th>1373</th>\n",
       "      <td>2020-02-09 07:51:03</td>\n",
       "      <td>2020-02-09 08:20:57</td>\n",
       "      <td>00:29:54</td>\n",
       "      <td>2020-02-09</td>\n",
       "      <td>2</td>\n",
       "      <td>9</td>\n",
       "      <td>7</td>\n",
       "      <td>1794000000000</td>\n",
       "    </tr>\n",
       "    <tr>\n",
       "      <th>316</th>\n",
       "      <td>2019-12-14 02:24:09</td>\n",
       "      <td>2019-12-14 02:25:20</td>\n",
       "      <td>00:01:11</td>\n",
       "      <td>2019-12-14</td>\n",
       "      <td>12</td>\n",
       "      <td>14</td>\n",
       "      <td>2</td>\n",
       "      <td>71000000000</td>\n",
       "    </tr>\n",
       "    <tr>\n",
       "      <th>638</th>\n",
       "      <td>2019-12-19 04:36:42</td>\n",
       "      <td>2019-12-19 04:40:52</td>\n",
       "      <td>00:04:10</td>\n",
       "      <td>2019-12-19</td>\n",
       "      <td>12</td>\n",
       "      <td>19</td>\n",
       "      <td>4</td>\n",
       "      <td>250000000000</td>\n",
       "    </tr>\n",
       "    <tr>\n",
       "      <th>4270</th>\n",
       "      <td>2020-09-26 15:22:01</td>\n",
       "      <td>2020-09-26 15:35:49</td>\n",
       "      <td>00:13:48</td>\n",
       "      <td>2020-09-26</td>\n",
       "      <td>9</td>\n",
       "      <td>26</td>\n",
       "      <td>15</td>\n",
       "      <td>828000000000</td>\n",
       "    </tr>\n",
       "    <tr>\n",
       "      <th>3988</th>\n",
       "      <td>2020-09-01 20:22:46</td>\n",
       "      <td>2020-09-01 20:28:47</td>\n",
       "      <td>00:06:01</td>\n",
       "      <td>2020-09-01</td>\n",
       "      <td>9</td>\n",
       "      <td>1</td>\n",
       "      <td>20</td>\n",
       "      <td>361000000000</td>\n",
       "    </tr>\n",
       "  </tbody>\n",
       "</table>\n",
       "</div>"
      ],
      "text/plain": [
       "              start_time            end_time duration        date  month  day  \\\n",
       "1373 2020-02-09 07:51:03 2020-02-09 08:20:57 00:29:54  2020-02-09      2    9   \n",
       "316  2019-12-14 02:24:09 2019-12-14 02:25:20 00:01:11  2019-12-14     12   14   \n",
       "638  2019-12-19 04:36:42 2019-12-19 04:40:52 00:04:10  2019-12-19     12   19   \n",
       "4270 2020-09-26 15:22:01 2020-09-26 15:35:49 00:13:48  2020-09-26      9   26   \n",
       "3988 2020-09-01 20:22:46 2020-09-01 20:28:47 00:06:01  2020-09-01      9    1   \n",
       "\n",
       "      hour   duration_int  \n",
       "1373     7  1794000000000  \n",
       "316      2    71000000000  \n",
       "638      4   250000000000  \n",
       "4270    15   828000000000  \n",
       "3988    20   361000000000  "
      ]
     },
     "execution_count": 19,
     "metadata": {},
     "output_type": "execute_result"
    }
   ],
   "source": [
    "events_df.head()"
   ]
  },
  {
   "cell_type": "code",
   "execution_count": 18,
   "metadata": {},
   "outputs": [],
   "source": [
    "# events_df.to_excel(\"/home/hayden/park_center_data/4th_events.xlsx\")\n",
    "events_df.to_pickle(\"/home/hayden/park_center_data/4th_events.pickle\") "
   ]
  },
  {
   "cell_type": "code",
   "execution_count": null,
   "metadata": {},
   "outputs": [],
   "source": [
    "# - Double blockage events are when there's significant overlap between chestnut and fourth time intervals.\n",
    "# - Blocking chestnut -- can get out of that. Blocking fourth -- hard to get out.\n",
    "# - "
   ]
  }
 ],
 "metadata": {
  "kernelspec": {
   "display_name": "Python [conda env:train] *",
   "language": "python",
   "name": "conda-env-train-py"
  },
  "language_info": {
   "codemirror_mode": {
    "name": "ipython",
    "version": 3
   },
   "file_extension": ".py",
   "mimetype": "text/x-python",
   "name": "python",
   "nbconvert_exporter": "python",
   "pygments_lexer": "ipython3",
   "version": "3.7.7"
  }
 },
 "nbformat": 4,
 "nbformat_minor": 4
}
