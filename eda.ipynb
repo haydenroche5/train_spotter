{
 "cells": [
  {
   "cell_type": "code",
   "execution_count": 70,
   "metadata": {},
   "outputs": [],
   "source": [
    "import pandas as pd\n",
    "from pathlib import Path\n",
    "import pickle\n",
    "from datetime import datetime, timedelta\n",
    "import numpy as np"
   ]
  },
  {
   "cell_type": "code",
   "execution_count": 5,
   "metadata": {},
   "outputs": [],
   "source": [
    "events_dir = Path('/mnt/fourth_events')"
   ]
  },
  {
   "cell_type": "code",
   "execution_count": 6,
   "metadata": {},
   "outputs": [
    {
     "name": "stdout",
     "output_type": "stream",
     "text": [
      "No moments.pickle for /mnt/fourth_events/92.\n",
      "No moments.pickle for /mnt/fourth_events/93.\n",
      "No moments.pickle for /mnt/fourth_events/165.\n",
      "No moments.pickle for /mnt/fourth_events/1107.\n"
     ]
    }
   ],
   "source": [
    "moments = []\n",
    "for events_subdir in events_dir.iterdir():\n",
    "    moments_file = Path(events_subdir, 'moments.pickle')\n",
    "    \n",
    "    if moments_file.exists():\n",
    "        with open(moments_file, 'rb') as f:\n",
    "            event_moments = pickle.load(f)\n",
    "        for m in event_moments:\n",
    "            moments.append(m)\n",
    "    else:\n",
    "        print(f'No moments.pickle for {events_subdir}.')"
   ]
  },
  {
   "cell_type": "code",
   "execution_count": 7,
   "metadata": {},
   "outputs": [
    {
     "name": "stdout",
     "output_type": "stream",
     "text": [
      "{'img_path': '/mnt/usb/events/683/images/0.jpg', 'train_prediction_value': 0.9197917, 'timestamp': '20191221_193808', 'event_number': 683}\n"
     ]
    }
   ],
   "source": [
    "print(moments[0])"
   ]
  },
  {
   "cell_type": "code",
   "execution_count": 30,
   "metadata": {},
   "outputs": [],
   "source": [
    "events = {}\n",
    "for m in moments:\n",
    "    event_number = m['event_number']\n",
    "    timestamp = datetime.strptime(m['timestamp'], '%Y%m%d_%H%M%S')\n",
    "    \n",
    "    if event_number in events:\n",
    "        if timestamp < events[event_number]['start_time']:\n",
    "            events[event_number]['start_time'] = timestamp\n",
    "        elif timestamp > events[event_number]['end_time']:\n",
    "            events[event_number]['end_time'] = timestamp\n",
    "    else:\n",
    "        events[event_number] = {'start_time': datetime.max, 'end_time': datetime.min}"
   ]
  },
  {
   "cell_type": "code",
   "execution_count": 39,
   "metadata": {},
   "outputs": [
    {
     "data": {
      "text/html": [
       "<div>\n",
       "<style scoped>\n",
       "    .dataframe tbody tr th:only-of-type {\n",
       "        vertical-align: middle;\n",
       "    }\n",
       "\n",
       "    .dataframe tbody tr th {\n",
       "        vertical-align: top;\n",
       "    }\n",
       "\n",
       "    .dataframe thead th {\n",
       "        text-align: right;\n",
       "    }\n",
       "</style>\n",
       "<table border=\"1\" class=\"dataframe\">\n",
       "  <thead>\n",
       "    <tr style=\"text-align: right;\">\n",
       "      <th></th>\n",
       "      <th>start_time</th>\n",
       "      <th>end_time</th>\n",
       "    </tr>\n",
       "  </thead>\n",
       "  <tbody>\n",
       "    <tr>\n",
       "      <th>683</th>\n",
       "      <td>2019-12-21 19:38:12</td>\n",
       "      <td>2019-12-21 19:48:35</td>\n",
       "    </tr>\n",
       "    <tr>\n",
       "      <th>2105</th>\n",
       "      <td>2020-03-06 15:17:28</td>\n",
       "      <td>2020-03-06 15:17:46</td>\n",
       "    </tr>\n",
       "    <tr>\n",
       "      <th>2017</th>\n",
       "      <td>2020-03-03 00:38:22</td>\n",
       "      <td>2020-03-03 00:38:39</td>\n",
       "    </tr>\n",
       "    <tr>\n",
       "      <th>435</th>\n",
       "      <td>2019-12-14 06:09:50</td>\n",
       "      <td>2019-12-14 06:11:08</td>\n",
       "    </tr>\n",
       "    <tr>\n",
       "      <th>1199</th>\n",
       "      <td>2020-01-30 21:57:35</td>\n",
       "      <td>2020-01-30 22:08:22</td>\n",
       "    </tr>\n",
       "  </tbody>\n",
       "</table>\n",
       "</div>"
      ],
      "text/plain": [
       "              start_time            end_time\n",
       "683  2019-12-21 19:38:12 2019-12-21 19:48:35\n",
       "2105 2020-03-06 15:17:28 2020-03-06 15:17:46\n",
       "2017 2020-03-03 00:38:22 2020-03-03 00:38:39\n",
       "435  2019-12-14 06:09:50 2019-12-14 06:11:08\n",
       "1199 2020-01-30 21:57:35 2020-01-30 22:08:22"
      ]
     },
     "execution_count": 39,
     "metadata": {},
     "output_type": "execute_result"
    }
   ],
   "source": [
    "events_df = pd.DataFrame.from_dict(events, orient='index')\n",
    "events_df.head()"
   ]
  },
  {
   "cell_type": "code",
   "execution_count": 40,
   "metadata": {},
   "outputs": [
    {
     "data": {
      "text/html": [
       "<div>\n",
       "<style scoped>\n",
       "    .dataframe tbody tr th:only-of-type {\n",
       "        vertical-align: middle;\n",
       "    }\n",
       "\n",
       "    .dataframe tbody tr th {\n",
       "        vertical-align: top;\n",
       "    }\n",
       "\n",
       "    .dataframe thead th {\n",
       "        text-align: right;\n",
       "    }\n",
       "</style>\n",
       "<table border=\"1\" class=\"dataframe\">\n",
       "  <thead>\n",
       "    <tr style=\"text-align: right;\">\n",
       "      <th></th>\n",
       "      <th>start_time</th>\n",
       "      <th>end_time</th>\n",
       "      <th>duration</th>\n",
       "    </tr>\n",
       "  </thead>\n",
       "  <tbody>\n",
       "    <tr>\n",
       "      <th>683</th>\n",
       "      <td>2019-12-21 19:38:12</td>\n",
       "      <td>2019-12-21 19:48:35</td>\n",
       "      <td>00:10:23</td>\n",
       "    </tr>\n",
       "    <tr>\n",
       "      <th>2105</th>\n",
       "      <td>2020-03-06 15:17:28</td>\n",
       "      <td>2020-03-06 15:17:46</td>\n",
       "      <td>00:00:18</td>\n",
       "    </tr>\n",
       "    <tr>\n",
       "      <th>2017</th>\n",
       "      <td>2020-03-03 00:38:22</td>\n",
       "      <td>2020-03-03 00:38:39</td>\n",
       "      <td>00:00:17</td>\n",
       "    </tr>\n",
       "    <tr>\n",
       "      <th>435</th>\n",
       "      <td>2019-12-14 06:09:50</td>\n",
       "      <td>2019-12-14 06:11:08</td>\n",
       "      <td>00:01:18</td>\n",
       "    </tr>\n",
       "    <tr>\n",
       "      <th>1199</th>\n",
       "      <td>2020-01-30 21:57:35</td>\n",
       "      <td>2020-01-30 22:08:22</td>\n",
       "      <td>00:10:47</td>\n",
       "    </tr>\n",
       "  </tbody>\n",
       "</table>\n",
       "</div>"
      ],
      "text/plain": [
       "              start_time            end_time duration\n",
       "683  2019-12-21 19:38:12 2019-12-21 19:48:35 00:10:23\n",
       "2105 2020-03-06 15:17:28 2020-03-06 15:17:46 00:00:18\n",
       "2017 2020-03-03 00:38:22 2020-03-03 00:38:39 00:00:17\n",
       "435  2019-12-14 06:09:50 2019-12-14 06:11:08 00:01:18\n",
       "1199 2020-01-30 21:57:35 2020-01-30 22:08:22 00:10:47"
      ]
     },
     "execution_count": 40,
     "metadata": {},
     "output_type": "execute_result"
    }
   ],
   "source": [
    "events_df['duration'] = events_df['end_time'] - events_df['start_time']\n",
    "events_df.head()"
   ]
  },
  {
   "cell_type": "code",
   "execution_count": 46,
   "metadata": {},
   "outputs": [
    {
     "data": {
      "text/html": [
       "<div>\n",
       "<style scoped>\n",
       "    .dataframe tbody tr th:only-of-type {\n",
       "        vertical-align: middle;\n",
       "    }\n",
       "\n",
       "    .dataframe tbody tr th {\n",
       "        vertical-align: top;\n",
       "    }\n",
       "\n",
       "    .dataframe thead th {\n",
       "        text-align: right;\n",
       "    }\n",
       "</style>\n",
       "<table border=\"1\" class=\"dataframe\">\n",
       "  <thead>\n",
       "    <tr style=\"text-align: right;\">\n",
       "      <th></th>\n",
       "      <th>start_time</th>\n",
       "      <th>end_time</th>\n",
       "      <th>duration</th>\n",
       "    </tr>\n",
       "  </thead>\n",
       "  <tbody>\n",
       "    <tr>\n",
       "      <th>683</th>\n",
       "      <td>2019-12-21 19:38:12</td>\n",
       "      <td>2019-12-21 19:48:35</td>\n",
       "      <td>00:10:23</td>\n",
       "    </tr>\n",
       "    <tr>\n",
       "      <th>435</th>\n",
       "      <td>2019-12-14 06:09:50</td>\n",
       "      <td>2019-12-14 06:11:08</td>\n",
       "      <td>00:01:18</td>\n",
       "    </tr>\n",
       "    <tr>\n",
       "      <th>1199</th>\n",
       "      <td>2020-01-30 21:57:35</td>\n",
       "      <td>2020-01-30 22:08:22</td>\n",
       "      <td>00:10:47</td>\n",
       "    </tr>\n",
       "    <tr>\n",
       "      <th>826</th>\n",
       "      <td>2020-01-02 17:37:03</td>\n",
       "      <td>2020-01-02 17:38:09</td>\n",
       "      <td>00:01:06</td>\n",
       "    </tr>\n",
       "    <tr>\n",
       "      <th>3649</th>\n",
       "      <td>2020-07-25 14:28:57</td>\n",
       "      <td>2020-07-25 14:35:02</td>\n",
       "      <td>00:06:05</td>\n",
       "    </tr>\n",
       "  </tbody>\n",
       "</table>\n",
       "</div>"
      ],
      "text/plain": [
       "              start_time            end_time duration\n",
       "683  2019-12-21 19:38:12 2019-12-21 19:48:35 00:10:23\n",
       "435  2019-12-14 06:09:50 2019-12-14 06:11:08 00:01:18\n",
       "1199 2020-01-30 21:57:35 2020-01-30 22:08:22 00:10:47\n",
       "826  2020-01-02 17:37:03 2020-01-02 17:38:09 00:01:06\n",
       "3649 2020-07-25 14:28:57 2020-07-25 14:35:02 00:06:05"
      ]
     },
     "execution_count": 46,
     "metadata": {},
     "output_type": "execute_result"
    }
   ],
   "source": [
    "events_df = events_df.loc[events_df['duration'] > timedelta(minutes=1)]\n",
    "events_df.head()"
   ]
  },
  {
   "cell_type": "code",
   "execution_count": 55,
   "metadata": {},
   "outputs": [
    {
     "data": {
      "text/html": [
       "<div>\n",
       "<style scoped>\n",
       "    .dataframe tbody tr th:only-of-type {\n",
       "        vertical-align: middle;\n",
       "    }\n",
       "\n",
       "    .dataframe tbody tr th {\n",
       "        vertical-align: top;\n",
       "    }\n",
       "\n",
       "    .dataframe thead th {\n",
       "        text-align: right;\n",
       "    }\n",
       "</style>\n",
       "<table border=\"1\" class=\"dataframe\">\n",
       "  <thead>\n",
       "    <tr style=\"text-align: right;\">\n",
       "      <th></th>\n",
       "      <th>start_time</th>\n",
       "      <th>end_time</th>\n",
       "      <th>duration</th>\n",
       "      <th>date</th>\n",
       "    </tr>\n",
       "  </thead>\n",
       "  <tbody>\n",
       "    <tr>\n",
       "      <th>683</th>\n",
       "      <td>2019-12-21 19:38:12</td>\n",
       "      <td>2019-12-21 19:48:35</td>\n",
       "      <td>00:10:23</td>\n",
       "      <td>2019-12-21</td>\n",
       "    </tr>\n",
       "    <tr>\n",
       "      <th>435</th>\n",
       "      <td>2019-12-14 06:09:50</td>\n",
       "      <td>2019-12-14 06:11:08</td>\n",
       "      <td>00:01:18</td>\n",
       "      <td>2019-12-14</td>\n",
       "    </tr>\n",
       "    <tr>\n",
       "      <th>1199</th>\n",
       "      <td>2020-01-30 21:57:35</td>\n",
       "      <td>2020-01-30 22:08:22</td>\n",
       "      <td>00:10:47</td>\n",
       "      <td>2020-01-30</td>\n",
       "    </tr>\n",
       "    <tr>\n",
       "      <th>826</th>\n",
       "      <td>2020-01-02 17:37:03</td>\n",
       "      <td>2020-01-02 17:38:09</td>\n",
       "      <td>00:01:06</td>\n",
       "      <td>2020-01-02</td>\n",
       "    </tr>\n",
       "    <tr>\n",
       "      <th>3649</th>\n",
       "      <td>2020-07-25 14:28:57</td>\n",
       "      <td>2020-07-25 14:35:02</td>\n",
       "      <td>00:06:05</td>\n",
       "      <td>2020-07-25</td>\n",
       "    </tr>\n",
       "  </tbody>\n",
       "</table>\n",
       "</div>"
      ],
      "text/plain": [
       "              start_time            end_time duration        date\n",
       "683  2019-12-21 19:38:12 2019-12-21 19:48:35 00:10:23  2019-12-21\n",
       "435  2019-12-14 06:09:50 2019-12-14 06:11:08 00:01:18  2019-12-14\n",
       "1199 2020-01-30 21:57:35 2020-01-30 22:08:22 00:10:47  2020-01-30\n",
       "826  2020-01-02 17:37:03 2020-01-02 17:38:09 00:01:06  2020-01-02\n",
       "3649 2020-07-25 14:28:57 2020-07-25 14:35:02 00:06:05  2020-07-25"
      ]
     },
     "execution_count": 55,
     "metadata": {},
     "output_type": "execute_result"
    }
   ],
   "source": [
    "events_df['date'] = events_df.apply(lambda e: e['start_time'].date(), axis=1)\n",
    "events_df.head()"
   ]
  },
  {
   "cell_type": "code",
   "execution_count": 57,
   "metadata": {},
   "outputs": [
    {
     "data": {
      "text/html": [
       "<div>\n",
       "<style scoped>\n",
       "    .dataframe tbody tr th:only-of-type {\n",
       "        vertical-align: middle;\n",
       "    }\n",
       "\n",
       "    .dataframe tbody tr th {\n",
       "        vertical-align: top;\n",
       "    }\n",
       "\n",
       "    .dataframe thead th {\n",
       "        text-align: right;\n",
       "    }\n",
       "</style>\n",
       "<table border=\"1\" class=\"dataframe\">\n",
       "  <thead>\n",
       "    <tr style=\"text-align: right;\">\n",
       "      <th></th>\n",
       "      <th>start_time</th>\n",
       "      <th>end_time</th>\n",
       "      <th>duration</th>\n",
       "      <th>date</th>\n",
       "      <th>month</th>\n",
       "    </tr>\n",
       "  </thead>\n",
       "  <tbody>\n",
       "    <tr>\n",
       "      <th>683</th>\n",
       "      <td>2019-12-21 19:38:12</td>\n",
       "      <td>2019-12-21 19:48:35</td>\n",
       "      <td>00:10:23</td>\n",
       "      <td>2019-12-21</td>\n",
       "      <td>12</td>\n",
       "    </tr>\n",
       "    <tr>\n",
       "      <th>435</th>\n",
       "      <td>2019-12-14 06:09:50</td>\n",
       "      <td>2019-12-14 06:11:08</td>\n",
       "      <td>00:01:18</td>\n",
       "      <td>2019-12-14</td>\n",
       "      <td>12</td>\n",
       "    </tr>\n",
       "    <tr>\n",
       "      <th>1199</th>\n",
       "      <td>2020-01-30 21:57:35</td>\n",
       "      <td>2020-01-30 22:08:22</td>\n",
       "      <td>00:10:47</td>\n",
       "      <td>2020-01-30</td>\n",
       "      <td>1</td>\n",
       "    </tr>\n",
       "    <tr>\n",
       "      <th>826</th>\n",
       "      <td>2020-01-02 17:37:03</td>\n",
       "      <td>2020-01-02 17:38:09</td>\n",
       "      <td>00:01:06</td>\n",
       "      <td>2020-01-02</td>\n",
       "      <td>1</td>\n",
       "    </tr>\n",
       "    <tr>\n",
       "      <th>3649</th>\n",
       "      <td>2020-07-25 14:28:57</td>\n",
       "      <td>2020-07-25 14:35:02</td>\n",
       "      <td>00:06:05</td>\n",
       "      <td>2020-07-25</td>\n",
       "      <td>7</td>\n",
       "    </tr>\n",
       "  </tbody>\n",
       "</table>\n",
       "</div>"
      ],
      "text/plain": [
       "              start_time            end_time duration        date  month\n",
       "683  2019-12-21 19:38:12 2019-12-21 19:48:35 00:10:23  2019-12-21     12\n",
       "435  2019-12-14 06:09:50 2019-12-14 06:11:08 00:01:18  2019-12-14     12\n",
       "1199 2020-01-30 21:57:35 2020-01-30 22:08:22 00:10:47  2020-01-30      1\n",
       "826  2020-01-02 17:37:03 2020-01-02 17:38:09 00:01:06  2020-01-02      1\n",
       "3649 2020-07-25 14:28:57 2020-07-25 14:35:02 00:06:05  2020-07-25      7"
      ]
     },
     "execution_count": 57,
     "metadata": {},
     "output_type": "execute_result"
    }
   ],
   "source": [
    "events_df['month'] = events_df.apply(lambda e: e['start_time'].month, axis=1)\n",
    "events_df.head()"
   ]
  },
  {
   "cell_type": "code",
   "execution_count": 62,
   "metadata": {},
   "outputs": [
    {
     "data": {
      "text/html": [
       "<div>\n",
       "<style scoped>\n",
       "    .dataframe tbody tr th:only-of-type {\n",
       "        vertical-align: middle;\n",
       "    }\n",
       "\n",
       "    .dataframe tbody tr th {\n",
       "        vertical-align: top;\n",
       "    }\n",
       "\n",
       "    .dataframe thead th {\n",
       "        text-align: right;\n",
       "    }\n",
       "</style>\n",
       "<table border=\"1\" class=\"dataframe\">\n",
       "  <thead>\n",
       "    <tr style=\"text-align: right;\">\n",
       "      <th></th>\n",
       "      <th>start_time</th>\n",
       "      <th>end_time</th>\n",
       "      <th>duration</th>\n",
       "      <th>date</th>\n",
       "      <th>month</th>\n",
       "      <th>day</th>\n",
       "    </tr>\n",
       "  </thead>\n",
       "  <tbody>\n",
       "    <tr>\n",
       "      <th>683</th>\n",
       "      <td>2019-12-21 19:38:12</td>\n",
       "      <td>2019-12-21 19:48:35</td>\n",
       "      <td>00:10:23</td>\n",
       "      <td>2019-12-21</td>\n",
       "      <td>12</td>\n",
       "      <td>21</td>\n",
       "    </tr>\n",
       "    <tr>\n",
       "      <th>435</th>\n",
       "      <td>2019-12-14 06:09:50</td>\n",
       "      <td>2019-12-14 06:11:08</td>\n",
       "      <td>00:01:18</td>\n",
       "      <td>2019-12-14</td>\n",
       "      <td>12</td>\n",
       "      <td>14</td>\n",
       "    </tr>\n",
       "    <tr>\n",
       "      <th>1199</th>\n",
       "      <td>2020-01-30 21:57:35</td>\n",
       "      <td>2020-01-30 22:08:22</td>\n",
       "      <td>00:10:47</td>\n",
       "      <td>2020-01-30</td>\n",
       "      <td>1</td>\n",
       "      <td>30</td>\n",
       "    </tr>\n",
       "    <tr>\n",
       "      <th>826</th>\n",
       "      <td>2020-01-02 17:37:03</td>\n",
       "      <td>2020-01-02 17:38:09</td>\n",
       "      <td>00:01:06</td>\n",
       "      <td>2020-01-02</td>\n",
       "      <td>1</td>\n",
       "      <td>2</td>\n",
       "    </tr>\n",
       "    <tr>\n",
       "      <th>3649</th>\n",
       "      <td>2020-07-25 14:28:57</td>\n",
       "      <td>2020-07-25 14:35:02</td>\n",
       "      <td>00:06:05</td>\n",
       "      <td>2020-07-25</td>\n",
       "      <td>7</td>\n",
       "      <td>25</td>\n",
       "    </tr>\n",
       "  </tbody>\n",
       "</table>\n",
       "</div>"
      ],
      "text/plain": [
       "              start_time            end_time duration        date  month  day\n",
       "683  2019-12-21 19:38:12 2019-12-21 19:48:35 00:10:23  2019-12-21     12   21\n",
       "435  2019-12-14 06:09:50 2019-12-14 06:11:08 00:01:18  2019-12-14     12   14\n",
       "1199 2020-01-30 21:57:35 2020-01-30 22:08:22 00:10:47  2020-01-30      1   30\n",
       "826  2020-01-02 17:37:03 2020-01-02 17:38:09 00:01:06  2020-01-02      1    2\n",
       "3649 2020-07-25 14:28:57 2020-07-25 14:35:02 00:06:05  2020-07-25      7   25"
      ]
     },
     "execution_count": 62,
     "metadata": {},
     "output_type": "execute_result"
    }
   ],
   "source": [
    "events_df['day'] = events_df.apply(lambda e: e['start_time'].day, axis=1)\n",
    "events_df.head()"
   ]
  },
  {
   "cell_type": "code",
   "execution_count": null,
   "metadata": {},
   "outputs": [],
   "source": [
    "events_df['hour'] = events_df.apply(lambda e: e['start_time'].hour, axis=1)\n",
    "events_df.head()"
   ]
  },
  {
   "cell_type": "code",
   "execution_count": 86,
   "metadata": {},
   "outputs": [
    {
     "name": "stdout",
     "output_type": "stream",
     "text": [
      "MEAN:\n",
      " month\n",
      "1    00:07:30.470108\n",
      "2    00:09:09.761229\n",
      "3    00:09:49.353200\n",
      "4    00:07:26.360784\n",
      "5    00:07:42.934272\n",
      "6    00:11:12.858064\n",
      "7    00:13:54.638036\n",
      "12   00:10:38.570743\n",
      "Name: duration_int, dtype: timedelta64[ns] \n",
      "\n",
      "STD:\n",
      " month\n",
      "1    00:10:36.727322\n",
      "2    00:14:01.180093\n",
      "3    00:13:30.009807\n",
      "4    00:10:55.571713\n",
      "5    00:10:16.572108\n",
      "6    00:21:09.552352\n",
      "7    00:21:27.786639\n",
      "12   00:36:18.994865\n",
      "Name: duration_int, dtype: timedelta64[ns] \n",
      "\n",
      "MAX:\n",
      " month\n",
      "1    01:58:05\n",
      "2    03:18:18\n",
      "3    01:58:46\n",
      "4    01:53:14\n",
      "5    01:03:39\n",
      "6    02:46:45\n",
      "7    03:10:47\n",
      "12   11:22:44\n",
      "Name: duration_int, dtype: timedelta64[ns] \n",
      "\n",
      "MIN:\n",
      " month\n",
      "1    00:01:06\n",
      "2    00:01:02\n",
      "3    00:01:03\n",
      "4    00:01:03\n",
      "5    00:01:02\n",
      "6    00:01:01\n",
      "7    00:01:02\n",
      "12   00:01:01\n",
      "Name: duration_int, dtype: timedelta64[ns] \n",
      "\n"
     ]
    }
   ],
   "source": [
    "# Average and standard deviation of event duration in each month\n",
    "events_df['duration_int'] = events_df['duration'].values.astype(np.int64)\n",
    "duration_means = events_df.groupby('month')['duration_int'].mean()\n",
    "duration_stds = events_df.groupby('month')['duration_int'].std()\n",
    "duration_means = pd.to_timedelta(duration_means)\n",
    "duration_stds = pd.to_timedelta(duration_stds)\n",
    "duration_maxes = events_df.groupby('month')['duration_int'].max()\n",
    "duration_mins = events_df.groupby('month')['duration_int'].min()\n",
    "duration_maxes = pd.to_timedelta(duration_maxes)\n",
    "duration_mins = pd.to_timedelta(duration_mins)\n",
    "# march_events_df = events_df[events_df['month'] == 3]\n",
    "print('MEAN:\\n', duration_means, '\\n')\n",
    "print('STD:\\n', duration_stds, '\\n')\n",
    "print('MAX:\\n', duration_maxes, '\\n')\n",
    "print('MIN:\\n', duration_mins, '\\n')"
   ]
  },
  {
   "cell_type": "code",
   "execution_count": 90,
   "metadata": {},
   "outputs": [],
   "source": [
    "event_stats_df = pd.DataFrame({'mean': duration_means, 'std': duration_stds, 'max': duration_maxes, 'min': duration_mins})\n",
    "event_stats_df.to_html('temp.html')"
   ]
  },
  {
   "cell_type": "code",
   "execution_count": 61,
   "metadata": {},
   "outputs": [
    {
     "data": {
      "image/png": "[encoded data removed]",
      "text/plain": [
       "<Figure size 432x288 with 1 Axes>"
      ]
     },
     "metadata": {
      "needs_background": "light"
     },
     "output_type": "display_data"
    }
   ],
   "source": [
    "ax = events_df['month'].value_counts().sort_index().plot(kind='bar')\n",
    "ax.figure.savefig('events_vs_month.jpg')"
   ]
  },
  {
   "cell_type": "code",
   "execution_count": null,
   "metadata": {},
   "outputs": [],
   "source": [
    "ax = events_df['hour'].value_counts().sort_index().plot(kind='bar')\n",
    "ax.figure.savefig('events_vs_hour.jpg')"
   ]
  },
  {
   "cell_type": "code",
   "execution_count": null,
   "metadata": {},
   "outputs": [],
   "source": [
    "# QUESTIONS / TODO\n",
    "# - Get the first and last moment of each event. From this information, create a new DataFrame, where each entry contains the date, start time, and end time.\n",
    "# - Filter out events that are less than 30 seconds long.\n",
    "# - Create a histogram of # events vs hour of day, per month and per year.\n",
    "# - Statistics about # daily events per month. Average, median, standard deviation, min, max, etc. Same stats for duration.\n",
    "#   those daily statistics for January, February, etc."
   ]
  },
  {
   "cell_type": "code",
   "execution_count": null,
   "metadata": {},
   "outputs": [],
   "source": []
  }
 ],
 "metadata": {
  "kernelspec": {
   "display_name": "Python [conda env:train]",
   "language": "python",
   "name": "conda-env-train-py"
  },
  "language_info": {
   "codemirror_mode": {
    "name": "ipython",
    "version": 3
   },
   "file_extension": ".py",
   "mimetype": "text/x-python",
   "name": "python",
   "nbconvert_exporter": "python",
   "pygments_lexer": "ipython3",
   "version": "3.7.7"
  }
 },
 "nbformat": 4,
 "nbformat_minor": 4
}
